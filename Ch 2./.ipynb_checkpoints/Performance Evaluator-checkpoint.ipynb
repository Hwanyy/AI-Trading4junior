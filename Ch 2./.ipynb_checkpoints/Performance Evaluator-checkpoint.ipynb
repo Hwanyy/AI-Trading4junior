{
 "cells": [
  {
   "cell_type": "markdown",
   "metadata": {},
   "source": [
    "## 파이썬으로 만드는 투자 전략과 주요 지표"
   ]
  },
  {
   "cell_type": "markdown",
   "metadata": {},
   "source": [
    "### 3.1. 바이앤홀드 (Buy and Hold)\n",
    "\n",
    "바이앤홀드 전략은 주식을 매수한 후 장기 보유하는 투자 전략.<br>\n",
    "주가는 예측이 불가하지만 경제가 성장함에 따라 장기적으로 우상향한다는 투자 철학의 관점에서 보면 합리적인 투자 방법."
   ]
  },
  {
   "cell_type": "code",
   "execution_count": 1,
   "metadata": {},
   "outputs": [],
   "source": [
    "import FinanceDataReader as fdr\n",
    "import pandas as pd\n",
    "import numpy as np\n",
    "\n",
    "df = fdr.DataReader('AMZN', start='1997-05-15')\n"
   ]
  },
  {
   "cell_type": "code",
   "execution_count": 2,
   "metadata": {},
   "outputs": [
    {
     "data": {
      "text/html": [
       "<div>\n",
       "<style scoped>\n",
       "    .dataframe tbody tr th:only-of-type {\n",
       "        vertical-align: middle;\n",
       "    }\n",
       "\n",
       "    .dataframe tbody tr th {\n",
       "        vertical-align: top;\n",
       "    }\n",
       "\n",
       "    .dataframe thead th {\n",
       "        text-align: right;\n",
       "    }\n",
       "</style>\n",
       "<table border=\"1\" class=\"dataframe\">\n",
       "  <thead>\n",
       "    <tr style=\"text-align: right;\">\n",
       "      <th></th>\n",
       "      <th>Close</th>\n",
       "      <th>Open</th>\n",
       "      <th>High</th>\n",
       "      <th>Low</th>\n",
       "      <th>Volume</th>\n",
       "      <th>Change</th>\n",
       "    </tr>\n",
       "    <tr>\n",
       "      <th>Date</th>\n",
       "      <th></th>\n",
       "      <th></th>\n",
       "      <th></th>\n",
       "      <th></th>\n",
       "      <th></th>\n",
       "      <th></th>\n",
       "    </tr>\n",
       "  </thead>\n",
       "  <tbody>\n",
       "    <tr>\n",
       "      <th>1997-05-15</th>\n",
       "      <td>1.96</td>\n",
       "      <td>2.44</td>\n",
       "      <td>2.50</td>\n",
       "      <td>1.93</td>\n",
       "      <td>72160000.0</td>\n",
       "      <td>-0.9962</td>\n",
       "    </tr>\n",
       "    <tr>\n",
       "      <th>1997-05-16</th>\n",
       "      <td>1.73</td>\n",
       "      <td>1.97</td>\n",
       "      <td>1.98</td>\n",
       "      <td>1.71</td>\n",
       "      <td>14700000.0</td>\n",
       "      <td>-0.1173</td>\n",
       "    </tr>\n",
       "    <tr>\n",
       "      <th>1997-05-19</th>\n",
       "      <td>1.71</td>\n",
       "      <td>1.76</td>\n",
       "      <td>1.77</td>\n",
       "      <td>1.62</td>\n",
       "      <td>6110000.0</td>\n",
       "      <td>-0.0116</td>\n",
       "    </tr>\n",
       "    <tr>\n",
       "      <th>1997-05-20</th>\n",
       "      <td>1.64</td>\n",
       "      <td>1.73</td>\n",
       "      <td>1.75</td>\n",
       "      <td>1.64</td>\n",
       "      <td>5470000.0</td>\n",
       "      <td>-0.0409</td>\n",
       "    </tr>\n",
       "    <tr>\n",
       "      <th>1997-05-21</th>\n",
       "      <td>1.43</td>\n",
       "      <td>1.64</td>\n",
       "      <td>1.65</td>\n",
       "      <td>1.37</td>\n",
       "      <td>18850000.0</td>\n",
       "      <td>-0.1280</td>\n",
       "    </tr>\n",
       "  </tbody>\n",
       "</table>\n",
       "</div>"
      ],
      "text/plain": [
       "            Close  Open  High   Low      Volume  Change\n",
       "Date                                                   \n",
       "1997-05-15   1.96  2.44  2.50  1.93  72160000.0 -0.9962\n",
       "1997-05-16   1.73  1.97  1.98  1.71  14700000.0 -0.1173\n",
       "1997-05-19   1.71  1.76  1.77  1.62   6110000.0 -0.0116\n",
       "1997-05-20   1.64  1.73  1.75  1.64   5470000.0 -0.0409\n",
       "1997-05-21   1.43  1.64  1.65  1.37  18850000.0 -0.1280"
      ]
     },
     "execution_count": 2,
     "metadata": {},
     "output_type": "execute_result"
    }
   ],
   "source": [
    "df.head()"
   ]
  },
  {
   "cell_type": "code",
   "execution_count": 3,
   "metadata": {},
   "outputs": [
    {
     "data": {
      "text/html": [
       "<div>\n",
       "<style scoped>\n",
       "    .dataframe tbody tr th:only-of-type {\n",
       "        vertical-align: middle;\n",
       "    }\n",
       "\n",
       "    .dataframe tbody tr th {\n",
       "        vertical-align: top;\n",
       "    }\n",
       "\n",
       "    .dataframe thead th {\n",
       "        text-align: right;\n",
       "    }\n",
       "</style>\n",
       "<table border=\"1\" class=\"dataframe\">\n",
       "  <thead>\n",
       "    <tr style=\"text-align: right;\">\n",
       "      <th></th>\n",
       "      <th>Close</th>\n",
       "      <th>Open</th>\n",
       "      <th>High</th>\n",
       "      <th>Low</th>\n",
       "      <th>Volume</th>\n",
       "      <th>Change</th>\n",
       "    </tr>\n",
       "    <tr>\n",
       "      <th>Date</th>\n",
       "      <th></th>\n",
       "      <th></th>\n",
       "      <th></th>\n",
       "      <th></th>\n",
       "      <th></th>\n",
       "      <th></th>\n",
       "    </tr>\n",
       "  </thead>\n",
       "  <tbody>\n",
       "  </tbody>\n",
       "</table>\n",
       "</div>"
      ],
      "text/plain": [
       "Empty DataFrame\n",
       "Columns: [Close, Open, High, Low, Volume, Change]\n",
       "Index: []"
      ]
     },
     "execution_count": 3,
     "metadata": {},
     "output_type": "execute_result"
    }
   ],
   "source": [
    "# 결측치가 있는지 확인\n",
    "df[df.isin([np.nan, np.inf, -np.inf]).any(1)]"
   ]
  },
  {
   "cell_type": "code",
   "execution_count": 4,
   "metadata": {},
   "outputs": [
    {
     "data": {
      "text/plain": [
       "<matplotlib.axes._subplots.AxesSubplot at 0x123744048>"
      ]
     },
     "execution_count": 4,
     "metadata": {},
     "output_type": "execute_result"
    },
    {
     "data": {
      "image/png": "[encoded data removed]",
      "text/plain": [
       "<Figure size 1152x648 with 1 Axes>"
      ]
     },
     "metadata": {
      "needs_background": "light"
     },
     "output_type": "display_data"
    }
   ],
   "source": [
    "# 종가를 활용해서 바이앤홀드 전략을 테스트\n",
    "price_df = df.loc[:, ['Close']].copy()\n",
    "price_df.plot(figsize=(16, 9))"
   ]
  },
  {
   "cell_type": "code",
   "execution_count": 5,
   "metadata": {},
   "outputs": [
    {
     "data": {
      "text/html": [
       "<div>\n",
       "<style scoped>\n",
       "    .dataframe tbody tr th:only-of-type {\n",
       "        vertical-align: middle;\n",
       "    }\n",
       "\n",
       "    .dataframe tbody tr th {\n",
       "        vertical-align: top;\n",
       "    }\n",
       "\n",
       "    .dataframe thead th {\n",
       "        text-align: right;\n",
       "    }\n",
       "</style>\n",
       "<table border=\"1\" class=\"dataframe\">\n",
       "  <thead>\n",
       "    <tr style=\"text-align: right;\">\n",
       "      <th></th>\n",
       "      <th>Close</th>\n",
       "      <th>daily_rtn</th>\n",
       "    </tr>\n",
       "    <tr>\n",
       "      <th>Date</th>\n",
       "      <th></th>\n",
       "      <th></th>\n",
       "    </tr>\n",
       "  </thead>\n",
       "  <tbody>\n",
       "    <tr>\n",
       "      <th>1997-05-15</th>\n",
       "      <td>1.96</td>\n",
       "      <td>NaN</td>\n",
       "    </tr>\n",
       "    <tr>\n",
       "      <th>1997-05-16</th>\n",
       "      <td>1.73</td>\n",
       "      <td>-0.117347</td>\n",
       "    </tr>\n",
       "    <tr>\n",
       "      <th>1997-05-19</th>\n",
       "      <td>1.71</td>\n",
       "      <td>-0.011561</td>\n",
       "    </tr>\n",
       "    <tr>\n",
       "      <th>1997-05-20</th>\n",
       "      <td>1.64</td>\n",
       "      <td>-0.040936</td>\n",
       "    </tr>\n",
       "    <tr>\n",
       "      <th>1997-05-21</th>\n",
       "      <td>1.43</td>\n",
       "      <td>-0.128049</td>\n",
       "    </tr>\n",
       "  </tbody>\n",
       "</table>\n",
       "</div>"
      ],
      "text/plain": [
       "            Close  daily_rtn\n",
       "Date                        \n",
       "1997-05-15   1.96        NaN\n",
       "1997-05-16   1.73  -0.117347\n",
       "1997-05-19   1.71  -0.011561\n",
       "1997-05-20   1.64  -0.040936\n",
       "1997-05-21   1.43  -0.128049"
      ]
     },
     "execution_count": 5,
     "metadata": {},
     "output_type": "execute_result"
    }
   ],
   "source": [
    "# 일별 수익률 계산\n",
    "price_df['daily_rtn'] = price_df['Close'].pct_change()\n",
    "price_df.head()"
   ]
  },
  {
   "cell_type": "code",
   "execution_count": 6,
   "metadata": {},
   "outputs": [
    {
     "data": {
      "text/html": [
       "<div>\n",
       "<style scoped>\n",
       "    .dataframe tbody tr th:only-of-type {\n",
       "        vertical-align: middle;\n",
       "    }\n",
       "\n",
       "    .dataframe tbody tr th {\n",
       "        vertical-align: top;\n",
       "    }\n",
       "\n",
       "    .dataframe thead th {\n",
       "        text-align: right;\n",
       "    }\n",
       "</style>\n",
       "<table border=\"1\" class=\"dataframe\">\n",
       "  <thead>\n",
       "    <tr style=\"text-align: right;\">\n",
       "      <th></th>\n",
       "      <th>Close</th>\n",
       "      <th>daily_rtn</th>\n",
       "      <th>st_rtn</th>\n",
       "    </tr>\n",
       "    <tr>\n",
       "      <th>Date</th>\n",
       "      <th></th>\n",
       "      <th></th>\n",
       "      <th></th>\n",
       "    </tr>\n",
       "  </thead>\n",
       "  <tbody>\n",
       "    <tr>\n",
       "      <th>2020-12-01</th>\n",
       "      <td>3220.08</td>\n",
       "      <td>0.016427</td>\n",
       "      <td>1642.897959</td>\n",
       "    </tr>\n",
       "    <tr>\n",
       "      <th>2020-12-02</th>\n",
       "      <td>3203.53</td>\n",
       "      <td>-0.005140</td>\n",
       "      <td>1634.454082</td>\n",
       "    </tr>\n",
       "    <tr>\n",
       "      <th>2020-12-03</th>\n",
       "      <td>3186.73</td>\n",
       "      <td>-0.005244</td>\n",
       "      <td>1625.882653</td>\n",
       "    </tr>\n",
       "    <tr>\n",
       "      <th>2020-12-04</th>\n",
       "      <td>3162.58</td>\n",
       "      <td>-0.007578</td>\n",
       "      <td>1613.561224</td>\n",
       "    </tr>\n",
       "    <tr>\n",
       "      <th>2020-12-07</th>\n",
       "      <td>3158.00</td>\n",
       "      <td>-0.001448</td>\n",
       "      <td>1611.224490</td>\n",
       "    </tr>\n",
       "    <tr>\n",
       "      <th>2020-12-08</th>\n",
       "      <td>3177.29</td>\n",
       "      <td>0.006108</td>\n",
       "      <td>1621.066327</td>\n",
       "    </tr>\n",
       "    <tr>\n",
       "      <th>2020-12-09</th>\n",
       "      <td>3104.20</td>\n",
       "      <td>-0.023004</td>\n",
       "      <td>1583.775510</td>\n",
       "    </tr>\n",
       "    <tr>\n",
       "      <th>2020-12-10</th>\n",
       "      <td>3101.49</td>\n",
       "      <td>-0.000873</td>\n",
       "      <td>1582.392857</td>\n",
       "    </tr>\n",
       "    <tr>\n",
       "      <th>2020-12-11</th>\n",
       "      <td>3116.42</td>\n",
       "      <td>0.004814</td>\n",
       "      <td>1590.010204</td>\n",
       "    </tr>\n",
       "    <tr>\n",
       "      <th>2020-12-14</th>\n",
       "      <td>3156.97</td>\n",
       "      <td>0.013012</td>\n",
       "      <td>1610.698980</td>\n",
       "    </tr>\n",
       "  </tbody>\n",
       "</table>\n",
       "</div>"
      ],
      "text/plain": [
       "              Close  daily_rtn       st_rtn\n",
       "Date                                       \n",
       "2020-12-01  3220.08   0.016427  1642.897959\n",
       "2020-12-02  3203.53  -0.005140  1634.454082\n",
       "2020-12-03  3186.73  -0.005244  1625.882653\n",
       "2020-12-04  3162.58  -0.007578  1613.561224\n",
       "2020-12-07  3158.00  -0.001448  1611.224490\n",
       "2020-12-08  3177.29   0.006108  1621.066327\n",
       "2020-12-09  3104.20  -0.023004  1583.775510\n",
       "2020-12-10  3101.49  -0.000873  1582.392857\n",
       "2020-12-11  3116.42   0.004814  1590.010204\n",
       "2020-12-14  3156.97   0.013012  1610.698980"
      ]
     },
     "execution_count": 6,
     "metadata": {},
     "output_type": "execute_result"
    }
   ],
   "source": [
    "# 누적 곱을 계산하여 매수 시점 대비 매도 시점의 종가 수익률 계산\n",
    "price_df['st_rtn'] = (1+price_df['daily_rtn']).cumprod()\n",
    "price_df.tail(10)"
   ]
  },
  {
   "cell_type": "code",
   "execution_count": 7,
   "metadata": {},
   "outputs": [
    {
     "name": "stdout",
     "output_type": "stream",
     "text": [
      "누적 수익 :  17.136955813701125\n"
     ]
    },
    {
     "data": {
      "text/plain": [
       "<matplotlib.axes._subplots.AxesSubplot at 0x12386e208>"
      ]
     },
     "execution_count": 7,
     "metadata": {},
     "output_type": "execute_result"
    },
    {
     "data": {
      "image/png": "[encoded data removed]",
      "text/plain": [
       "<Figure size 1152x648 with 1 Axes>"
      ]
     },
     "metadata": {
      "needs_background": "light"
     },
     "output_type": "display_data"
    }
   ],
   "source": [
    "# 시점을 달리 설정하여 수익률 계산\n",
    "base_date = '2011-01-03'\n",
    "tmp_df = price_df.loc[base_date:, ['st_rtn']] / price_df.loc[base_date, ['st_rtn']] # base_date를 기준으로 나누어 줘서 매수 시점을 1로 변경\n",
    "last_date = tmp_df.index[-1]\n",
    "print('누적 수익 : ',tmp_df.loc[last_date,'st_rtn'])\n",
    "tmp_df.plot(figsize=(16, 9))"
   ]
  },
  {
   "cell_type": "markdown",
   "metadata": {},
   "source": [
    "2011년 1월 3일을 기준으로 현재까지의 누적수익률을 계산해보면 고점으로 20배 가까이 수익률을 올린 뒤 현재 약 17배 정도의 수익률을 얻은 것을 확인할 수 있다."
   ]
  },
  {
   "cell_type": "markdown",
   "metadata": {},
   "source": [
    "### 3.2. 투자 성과 분석 지표\n",
    "\n",
    "+ 연평균 복리 수익률(compound annual growth rate, CAGR)\n",
    "+ 최대 낙폭(maximum draw down, MDD)\n",
    "+ 변동성 (Volatility, Vol)\n",
    "+ 샤프 지수 (Sharpe ratio)"
   ]
  },
  {
   "cell_type": "markdown",
   "metadata": {},
   "source": [
    "#### 3.2.1 연평균 복리 수익률 (CAGR)\n",
    "\n",
    "수익률 성과를 분석할 때는 산술평균 수익률보다 복리 성질을 반영한 기하평균 수익률을 더 선호한다.\n",
    "\n",
    "\n",
    "$$\n",
    "CAGR(t_0, t_n) = \\left ( {V(t_n) \\over V(t_0)} \\right) ^{1 \\over t_n-t_0}- 1\n",
    "$$\n"
   ]
  },
  {
   "cell_type": "code",
   "execution_count": 9,
   "metadata": {},
   "outputs": [
    {
     "data": {
      "text/plain": [
       "0.3393629624690535"
      ]
     },
     "execution_count": 9,
     "metadata": {},
     "output_type": "execute_result"
    }
   ],
   "source": [
    "CAGR = price_df.loc['2019-06-24', 'st_rtn'] ** (252./len(price_df.index)) - 1\n",
    "CAGR"
   ]
  },
  {
   "cell_type": "markdown",
   "metadata": {},
   "source": [
    "#### 3.2.2 최대 낙폭 (MDD)\n",
    "\n",
    "최대 낙폭은 최대 낙폭 지수로, 투자 기간에 고점부터 저점까지 떨어진 낙폭 중 최댓값을 의미\n",
    "\n",
    "$$\n",
    "\\text{최대 낙폭} = {\\text{Trough  Value} - \\text{Peak Value} \\over \\text{Peak Value}}\n",
    "$$"
   ]
  },
  {
   "cell_type": "code",
   "execution_count": 17,
   "metadata": {},
   "outputs": [
    {
     "data": {
      "text/plain": [
       "<matplotlib.axes._subplots.AxesSubplot at 0x123b44d68>"
      ]
     },
     "execution_count": 17,
     "metadata": {},
     "output_type": "execute_result"
    },
    {
     "data": {
      "image/png": "[encoded data removed]",
      "text/plain": [
       "<Figure size 1152x648 with 1 Axes>"
      ]
     },
     "metadata": {
      "needs_background": "light"
     },
     "output_type": "display_data"
    }
   ],
   "source": [
    "historical_max = price_df['Close'].cummax()\n",
    "#cummax는 누적 최댓값을 반환\n",
    "daily_drawdown = price_df['Close'] / historical_max - 1.0\n",
    "historical_dd = daily_drawdown.cummin()\n",
    "#cummin은 누적 최솟값을 반환\n",
    "\n",
    "historical_dd.plot(figsize=(16, 9))"
   ]
  },
  {
   "cell_type": "markdown",
   "metadata": {},
   "source": [
    "#### 3.2.3 변동성 (Vol)\n",
    "\n",
    "수익률의 표준 편차를 변동성으로 계산\n",
    "$$\n",
    "\\sigma_p = \\sigma_일 \\sqrt{P}\n",
    "$$"
   ]
  },
  {
   "cell_type": "code",
   "execution_count": 19,
   "metadata": {},
   "outputs": [
    {
     "data": {
      "text/plain": [
       "0.5874469807550086"
      ]
     },
     "execution_count": 19,
     "metadata": {},
     "output_type": "execute_result"
    }
   ],
   "source": [
    "VOL = np.std(price_df['daily_rtn'])*np.sqrt(252.)\n",
    "VOL"
   ]
  },
  {
   "cell_type": "markdown",
   "metadata": {},
   "source": [
    "#### 3.2.4 샤프 지수\n",
    "\n",
    "샤프 지수는 위험 대비 수익성 지표로 자산 수익률에서 무위험 자산 (혹은 기준 지표 자산 수익률)을 차감한 Real 수익률을 자산 수익률의 변동성으로 계산한 것이다.\n",
    "\n",
    "\n",
    "$$\n",
    "S_a = {E[R_a - R_b] \\over \\sigma_a}\n",
    "$$"
   ]
  },
  {
   "cell_type": "code",
   "execution_count": 21,
   "metadata": {},
   "outputs": [
    {
     "data": {
      "text/plain": [
       "0.8219391043656058"
      ]
     },
     "execution_count": 21,
     "metadata": {},
     "output_type": "execute_result"
    }
   ],
   "source": [
    "Sharpe = np.mean(price_df['daily_rtn']) / np.std(price_df['daily_rtn']) * np.sqrt(252.)\n",
    "Sharpe"
   ]
  },
  {
   "cell_type": "code",
   "execution_count": 23,
   "metadata": {},
   "outputs": [
    {
     "name": "stdout",
     "output_type": "stream",
     "text": [
      "CAGR :  33.94 %\n",
      "Sharpe :  0.82\n",
      "VOL :  58.74 %\n",
      "MDD :  94.4 %\n"
     ]
    }
   ],
   "source": [
    "## 모든 성과 지표 적용\n",
    "CAGR = price_df.loc['2019-06-24', 'st_rtn'] ** (252/len(price_df.index)) - 1\n",
    "Sharpe = np.mean(price_df['daily_rtn']) / np.std(price_df['daily_rtn']) * np.sqrt(252.)\n",
    "VOL = np.std(price_df['daily_rtn'])*np.sqrt(252.)\n",
    "MDD = historical_dd.min()\n",
    "\n",
    "print('CAGR : ', round(CAGR*100, 2), '%')\n",
    "print('Sharpe : ', round(Sharpe, 2))\n",
    "print('VOL : ', round(VOL*100, 2), '%')\n",
    "print('MDD : ', round(-1*MDD*100, 2), '%')"
   ]
  },
  {
   "cell_type": "code",
   "execution_count": null,
   "metadata": {},
   "outputs": [],
   "source": []
  }
 ],
 "metadata": {
  "kernelspec": {
   "display_name": "venv94",
   "language": "python",
   "name": "venv94"
  },
  "language_info": {
   "codemirror_mode": {
    "name": "ipython",
    "version": 3
   },
   "file_extension": ".py",
   "mimetype": "text/x-python",
   "name": "python",
   "nbconvert_exporter": "python",
   "pygments_lexer": "ipython3",
   "version": "3.6.8"
  }
 },
 "nbformat": 4,
 "nbformat_minor": 4
}
