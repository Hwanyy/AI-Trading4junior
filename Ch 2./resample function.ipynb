{
 "cells": [
  {
   "cell_type": "markdown",
   "metadata": {},
   "source": [
    "## ```resample()``` 함수\n",
    "\n",
    "예측 주기를 일(Daily)에서 주(weekly)로 바꾼다거나 아니면 월(Monthly)이나 연(Yearly) 단위로 어떤 축약한 내용을 확인하고 싶을 때도 있을 것이다."
   ]
  },
  {
   "cell_type": "markdown",
   "metadata": {},
   "source": [
    "```resample()```함수는 시간 간격을 재조정하는 기능을 한다. <br>\n",
    "이미 확보한 데이터가 일별 데이터일 때, 시간 간격을 재조정해 월별 데이터로 가공한다거나 일별 데이터를 시간별 데이터로 재조정할 때 사용할 수 있다.<br> ```resample()``` 함수를 사용해 데이터를 가공하는 과정을 **리샘플링(resampling)**이라 부르는데, 이는 크게 두 가지 유형으로 나뉜다.\n",
    "\n",
    "+ 업 샘플링(up-sampling) : 분 단위, 초 단위로 샘플의 빈도수를 증가시킨다.\n",
    "+ 다운 샘플링(down-sampling) : 몇 일, 몇 달 단위로 샘플의 빈도수를 감소시킨다."
   ]
  },
  {
   "cell_type": "code",
   "execution_count": 1,
   "metadata": {},
   "outputs": [],
   "source": [
    "import pandas as pd\n",
    "index = pd.date_range(start = '2019-01-01', end= '2019-10-01', freq='B')\n",
    "series = pd.Series(range(len(index)), index=index)"
   ]
  },
  {
   "cell_type": "code",
   "execution_count": 3,
   "metadata": {},
   "outputs": [
    {
     "data": {
      "text/plain": [
       "2019-01-31     253\n",
       "2019-02-28     650\n",
       "2019-03-31    1113\n",
       "2019-04-30    1639\n",
       "2019-05-31    2231\n",
       "2019-06-30    2370\n",
       "2019-07-31    3220\n",
       "2019-08-31    3575\n",
       "2019-09-30    3864\n",
       "2019-10-31     195\n",
       "Freq: M, dtype: int64"
      ]
     },
     "execution_count": 3,
     "metadata": {},
     "output_type": "execute_result"
    }
   ],
   "source": [
    "series.resample(rule='M').sum()"
   ]
  },
  {
   "cell_type": "markdown",
   "metadata": {},
   "source": [
    "```resample()``` 함수에는 시간 간격을 유연하게 조정할 수 있는 다양한 매개변수가 존재한다.<br>\n",
    "간격을 조절하는 매개변수는 rule에 전달하는데, rule의 단위로는 날짜의 주기(Frequency)단위와 같은 단위를 사용한다.<br>\n",
    "파이썬에서 사용하는 일종의 날짜 시간 단위 규약(Convention)이다.\n",
    "여기서는 ```sum()```함수를 호줄해 월별 합계를 계산했지만, ```last(), first()``` 등 다양한 값을 호출할 수 있다."
   ]
  },
  {
   "cell_type": "code",
   "execution_count": 4,
   "metadata": {},
   "outputs": [
    {
     "data": {
      "text/plain": [
       "2019-01-31     22\n",
       "2019-02-28     42\n",
       "2019-03-31     63\n",
       "2019-04-30     85\n",
       "2019-05-31    108\n",
       "2019-06-30    128\n",
       "2019-07-31    151\n",
       "2019-08-31    173\n",
       "2019-09-30    194\n",
       "2019-10-31    195\n",
       "Freq: M, dtype: int64"
      ]
     },
     "execution_count": 4,
     "metadata": {},
     "output_type": "execute_result"
    }
   ],
   "source": [
    "series.resample(rule='M').last()"
   ]
  },
  {
   "cell_type": "code",
   "execution_count": 5,
   "metadata": {},
   "outputs": [
    {
     "data": {
      "text/plain": [
       "2019-01-01      0\n",
       "2019-02-01     23\n",
       "2019-03-01     43\n",
       "2019-04-01     64\n",
       "2019-05-01     86\n",
       "2019-06-01    109\n",
       "2019-07-01    129\n",
       "2019-08-01    152\n",
       "2019-09-01    174\n",
       "2019-10-01    195\n",
       "Freq: MS, dtype: int64"
      ]
     },
     "execution_count": 5,
     "metadata": {},
     "output_type": "execute_result"
    }
   ],
   "source": [
    "series.resample(rule='MS').first()"
   ]
  }
 ],
 "metadata": {
  "kernelspec": {
   "display_name": "venv94",
   "language": "python",
   "name": "venv94"
  },
  "language_info": {
   "codemirror_mode": {
    "name": "ipython",
    "version": 3
   },
   "file_extension": ".py",
   "mimetype": "text/x-python",
   "name": "python",
   "nbconvert_exporter": "python",
   "pygments_lexer": "ipython3",
   "version": "3.6.8"
  }
 },
 "nbformat": 4,
 "nbformat_minor": 4
}
